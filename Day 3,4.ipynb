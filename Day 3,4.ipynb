{
 "cells": [
  {
   "cell_type": "markdown",
   "metadata": {},
   "source": [
    "# user defined functions\n",
    "\n",
    "# list\n",
    "\n",
    "# tuple\n",
    "\n",
    "# dictonary\n",
    "\n",
    "# string\n",
    "\n",
    "# sets\n"
   ]
  },
  {
   "cell_type": "markdown",
   "metadata": {},
   "source": [
    "# user defined\n",
    "\n",
    "# block of statements to perform particular task\n",
    "\n",
    "# code reusebulity\n",
    "\n",
    "# time will save\n",
    "\n",
    "# syntax\n",
    "\n",
    "# def functionname(arguments/parameters):\n",
    "     #statements\n",
    "    \n",
    "# calling function\n",
    "\n",
    "#functionname(arguments/parameters)"
   ]
  },
  {
   "cell_type": "code",
   "execution_count": null,
   "metadata": {},
   "outputs": [],
   "source": [
    "def add(a,b):\n",
    "    print(a+b)\n",
    "add(1,2)"
   ]
  },
  {
   "cell_type": "markdown",
   "metadata": {},
   "source": [
    "# with arguments with return type\n",
    "# without arguments with return type\n",
    "# without arguments without return type\n",
    "# with arguments with return type\n",
    "\n",
    "# required arguments are position arguments\n",
    "\n",
    "# keyword argument\n",
    "\n",
    "# default arguments\n",
    "\n",
    "# variablelength arguments"
   ]
  },
  {
   "cell_type": "code",
   "execution_count": null,
   "metadata": {},
   "outputs": [],
   "source": [
    "def sample():\n",
    "    print('welcome')\n",
    "print('python workshop')\n",
    "sample()"
   ]
  },
  {
   "cell_type": "code",
   "execution_count": null,
   "metadata": {},
   "outputs": [],
   "source": [
    "# with arguments with return type\n",
    "\n",
    "def add(a,b,c):\n",
    "    d=a+b+c\n",
    "    return('add of three num is',d)\n",
    "add(10,20,30)"
   ]
  },
  {
   "cell_type": "code",
   "execution_count": null,
   "metadata": {},
   "outputs": [],
   "source": [
    "# without arguments with return type\n",
    "\n",
    "def sub():\n",
    "    a=20\n",
    "    b=30\n",
    "    return a-b\n",
    "sub()"
   ]
  },
  {
   "cell_type": "code",
   "execution_count": null,
   "metadata": {},
   "outputs": [],
   "source": [
    "# without arguments without return type\n",
    "\n",
    "def mul():\n",
    "    n=10\n",
    "    m=20\n",
    "    print('multiplication of %d * %d=%d'%(n,m,n*m))\n",
    "mul()"
   ]
  },
  {
   "cell_type": "code",
   "execution_count": null,
   "metadata": {},
   "outputs": [],
   "source": [
    "# with arguments without return type\n",
    "\n",
    "def div(p,q):\n",
    "    print(p/q)\n",
    "div(10,30)"
   ]
  },
  {
   "cell_type": "code",
   "execution_count": null,
   "metadata": {},
   "outputs": [],
   "source": [
    "def sum(a,b):\n",
    "    return 'sum of % + %d = %d'%(a,b,a+b)\n",
    "a=int(input('enter value'))\n",
    "b=int(input('enter value'))\n",
    "sum(a,b)"
   ]
  },
  {
   "cell_type": "code",
   "execution_count": null,
   "metadata": {},
   "outputs": [],
   "source": [
    "# required arguments are position arguments\n",
    "\n",
    "def intrest(p,t,r):\n",
    "    total=p*t*r/100\n",
    "    return total \n",
    "p=int(input('enter principal amt')) \n",
    "t=float(input('enter time :-')) \n",
    "r=float(input('enter rate:-'))\n",
    "intrest(p,t,r)"
   ]
  },
  {
   "cell_type": "code",
   "execution_count": null,
   "metadata": {},
   "outputs": [],
   "source": [
    "# key word argument\n",
    "\n",
    "def simple(p,t,r):\n",
    "    total=p*t*r/100\n",
    "    return total\n",
    "p=int(input('enter principal amt')) \n",
    "t=float(input('enter time :-')) \n",
    "r=float(input('enter rate:-'))\n",
    "simple(t=2.0,r=1.50,p=10000)\n",
    "simple(t=t,r=r,p=p) #dynamic"
   ]
  },
  {
   "cell_type": "code",
   "execution_count": null,
   "metadata": {},
   "outputs": [],
   "source": [
    "# default arguments\n",
    "\n",
    "def simple1(p=1000,t=2.0,r=3.0):\n",
    "    print(p*t*r/100)\n",
    "#simple1()\n",
    "simple1(p=2000)"
   ]
  },
  {
   "cell_type": "code",
   "execution_count": null,
   "metadata": {},
   "outputs": [],
   "source": [
    "# variablelength arguments\n",
    "\n",
    "def var_sum(*a):\n",
    "    s=0\n",
    "    for i in a:\n",
    "        s+=i\n",
    "    print(s)\n",
    "var_sum(1,2,3,4,5,6)\n",
    "\n",
    "\n"
   ]
  },
  {
   "cell_type": "code",
   "execution_count": null,
   "metadata": {},
   "outputs": [],
   "source": [
    "arthematic  calculation operation\n",
    "\n",
    "1.addition\n",
    "2.sub\n",
    "3.mul\n",
    "4.div\n",
    "5.%\n",
    "6.**\n",
    "7.//\n",
    "\n",
    "a=inputbox 5\n",
    "b=inputbox 6\n",
    "    select option input box-\n",
    "    1 or 2 or 3 or 4 or 5\n",
    "a=inputbox 5\n",
    "b=inputbox 6\n",
    "addition of 5+6=11"
   ]
  },
  {
   "cell_type": "code",
   "execution_count": null,
   "metadata": {},
   "outputs": [],
   "source": [
    "print(\"choose operation.\")\n",
    "print(\"1.Add\")\n",
    "print(\"2.Subtract\")\n",
    "print(\"3.Multiply\")\n",
    "print(\"4.Divide\")\n",
    "print(\"5.Mod\")\n",
    "print(\"6.Power\")\n",
    "\n",
    "num1 =int(input(\"Enter first number: \"))\n",
    "num2 = int(input(\"Enter second number: \"))\n",
    "choice=int(input(\"enter your choice 1/2/3/4/5/6/: -\"))\n",
    "def add(num1,num2):\n",
    "    print('Addition of %d + %d = %d'%(num1,num2,num1+num2))\n",
    "def sub(num1,num2):\n",
    "    print('Subtraction of %d - %d = %d'%(num1,num2,num1-num2))\n",
    "def mul(num1,num2):\n",
    "    print('Multiply of %d * %d = %d'%(num1,num2,num1*num2))\n",
    "def div(num1,num2):\n",
    "    print('Division of %d / %d = %d'%(num1,num2,num1/num2))\n",
    "def mod(num1,num2):\n",
    "    print('Mod of %d % %d = %d'%(num1,num2,num1%num2))\n",
    "def power(num1,num2):\n",
    "    print('Power of %d ** %d = %d'%(num1,num2,num1**num2))\n",
    "if choice == 1:\n",
    "    add(num1,num2)\n",
    "elif choice \n",
    "           "
   ]
  },
  {
   "cell_type": "markdown",
   "metadata": {},
   "source": [
    "# strings\n",
    "\"\"\"\n",
    "-->Collection of character is called string\n",
    "\n",
    "-->Group of characters is called a string\n",
    "\n",
    "-->in python string representation is \" or \"\" or \"\"\"\"\"\"\n",
    "\n",
    "--> In python string immutable\n",
    "\n",
    "-->in python string is indexex value based\n",
    "\n",
    "-->string supports slicing operator--->':'\n",
    "\"\"\"\n",
    "a=''\n",
    "print(type(a))\n"
   ]
  },
  {
   "cell_type": "code",
   "execution_count": null,
   "metadata": {},
   "outputs": [],
   "source": [
    "a=''\n",
    "print(type(a))\n",
    "a='welcome to python'\n",
    "print(a)\n"
   ]
  },
  {
   "cell_type": "code",
   "execution_count": null,
   "metadata": {},
   "outputs": [],
   "source": [
    "# concatination of string\n",
    "\n",
    "b='workshop'\n",
    "print(a+b) # a+= 'hello'\n"
   ]
  },
  {
   "cell_type": "code",
   "execution_count": null,
   "metadata": {},
   "outputs": [],
   "source": [
    "# getting values\n",
    "\n",
    "print(a[0])\n",
    "print(a[1])\n"
   ]
  },
  {
   "cell_type": "code",
   "execution_count": null,
   "metadata": {},
   "outputs": [],
   "source": [
    "# forward index and backward index\n",
    "\n",
    "# forward index\n",
    "\n",
    "print(a[0])\n",
    "print(a[5])\n"
   ]
  },
  {
   "cell_type": "code",
   "execution_count": null,
   "metadata": {},
   "outputs": [],
   "source": [
    "# backward index\n",
    "\n",
    "print(a[-1])\n",
    "print(a[-5])"
   ]
  },
  {
   "cell_type": "code",
   "execution_count": null,
   "metadata": {},
   "outputs": [],
   "source": [
    "# slicing operator-->:\n",
    "\n",
    "name='python programming'\n",
    "print(name[4:6])\n",
    "print(name[:])\n",
    "print(name[0:6])\n",
    "print(name[::-1])\n",
    "print(name[0:17:2])\n",
    "print(name[6:7])\n",
    "print(name[0:])\n"
   ]
  },
  {
   "cell_type": "code",
   "execution_count": null,
   "metadata": {},
   "outputs": [],
   "source": [
    "# string methods 3 ways\n",
    "# By using data type-->str\n",
    "print(dir(str))\n",
    "\n",
    "n=''\n",
    "print(dir(n))\n",
    "\n",
    "m='hello'\n",
    "print(dir(m))"
   ]
  },
  {
   "cell_type": "code",
   "execution_count": null,
   "metadata": {},
   "outputs": [],
   "source": [
    "# capitalize method\n",
    "\n",
    "p='welcome to apssdc'\n",
    "print(p.capitalize())\n",
    "print(p.casefold())\n",
    "print(p.swapcase())\n",
    "print(p.count('ss'))\n",
    "print(p.index('p'))\n",
    "print(p.find('x'))\n",
    "print(p.center(100))\n",
    "print(len(p))\n",
    "print(p.center(20,'*'))\n",
    "print('My name is (0) & i am from(1)'.format('abc','xyz'))\n",
    "print(p.upper())\n",
    "print(p.lower())\n",
    "print(p.title())\n",
    "print(p.isupper())\n",
    "print(p.islower())\n",
    "print(p.startswith('w'))\n",
    "print(p.endswith('c'))\n",
    "print(p.istitle())\n",
    "q='<=='\n",
    "print(q.join(p))\n"
   ]
  },
  {
   "cell_type": "code",
   "execution_count": null,
   "metadata": {},
   "outputs": [],
   "source": [
    "# Data structure concepts\n",
    "\n",
    "# list\n",
    "# tuple\n",
    "# dictonary\n",
    "# sets\n"
   ]
  },
  {
   "cell_type": "code",
   "execution_count": null,
   "metadata": {},
   "outputs": [],
   "source": [
    "# list\n",
    "  # list is collection of heterogenous data elements \n",
    "    # list is mutable\n",
    "     #list representation []\n",
    "      #list  supports slicing --->;\n",
    "    \n",
    "# syntax\n",
    "# variablename=[]"
   ]
  },
  {
   "cell_type": "code",
   "execution_count": null,
   "metadata": {},
   "outputs": [],
   "source": [
    "l1=[1,2,3,'hi','hello',10.25]\n",
    "l1"
   ]
  },
  {
   "cell_type": "code",
   "execution_count": null,
   "metadata": {},
   "outputs": [],
   "source": [
    "l2=[4,5,6,'hru']\n",
    "l3=l1+l2\n",
    "print(l3)"
   ]
  },
  {
   "cell_type": "code",
   "execution_count": null,
   "metadata": {},
   "outputs": [],
   "source": [
    "# forward index\n",
    "l3[3]\n",
    "l3[6]\n",
    "# backward index\n",
    "l3[-1]\n",
    "l3[-4]\n",
    "\n",
    "# list slicing\n",
    "l3[3:5]\n",
    "\n",
    "l3[::-1]\n",
    "\n",
    "l3[0:11:2]"
   ]
  },
  {
   "cell_type": "code",
   "execution_count": null,
   "metadata": {},
   "outputs": [],
   "source": [
    "# list methods \n",
    "dir(list)\n",
    "\n",
    "# Append\n",
    "l3.append([11,12])\n",
    "\n",
    "l3.extend([13,14,15])\n",
    "l3"
   ]
  },
  {
   "cell_type": "code",
   "execution_count": null,
   "metadata": {},
   "outputs": [],
   "source": [
    "l3[11][0]\n"
   ]
  },
  {
   "cell_type": "code",
   "execution_count": null,
   "metadata": {},
   "outputs": [],
   "source": [
    "# count \n",
    "l3.count(10)"
   ]
  },
  {
   "cell_type": "code",
   "execution_count": null,
   "metadata": {},
   "outputs": [],
   "source": [
    "l3.index(5)"
   ]
  },
  {
   "cell_type": "code",
   "execution_count": null,
   "metadata": {},
   "outputs": [],
   "source": [
    "# Insert\n",
    "s=['a','o']\n",
    "s.insert(1,'e')\n",
    "s.insert(2,'i')\n",
    "s.insert(4,'u')\n",
    "s"
   ]
  },
  {
   "cell_type": "code",
   "execution_count": null,
   "metadata": {},
   "outputs": [],
   "source": [
    "# difference b/w pop,remove,del\n",
    "# pop()--->last in firstout\n",
    "# remove()--->value based\n",
    "# del--->index value based"
   ]
  },
  {
   "cell_type": "code",
   "execution_count": null,
   "metadata": {},
   "outputs": [],
   "source": [
    "l3.pop()"
   ]
  },
  {
   "cell_type": "code",
   "execution_count": null,
   "metadata": {},
   "outputs": [],
   "source": [
    "l3.remove('hello')"
   ]
  },
  {
   "cell_type": "code",
   "execution_count": null,
   "metadata": {},
   "outputs": [],
   "source": [
    "l3"
   ]
  },
  {
   "cell_type": "code",
   "execution_count": null,
   "metadata": {},
   "outputs": [],
   "source": [
    "del l3[11]"
   ]
  },
  {
   "cell_type": "code",
   "execution_count": null,
   "metadata": {},
   "outputs": [],
   "source": [
    "l3"
   ]
  },
  {
   "cell_type": "code",
   "execution_count": null,
   "metadata": {},
   "outputs": [],
   "source": [
    "# sort\n",
    "l4=[4,7,8,1,4,9,1]\n",
    "l4.sort()\n",
    "l4"
   ]
  },
  {
   "cell_type": "code",
   "execution_count": null,
   "metadata": {},
   "outputs": [],
   "source": [
    "# Reverse\n",
    "l4.sort(reverse=False)\n",
    "l4.sort(reverse=True)\n",
    "l4"
   ]
  },
  {
   "cell_type": "code",
   "execution_count": null,
   "metadata": {},
   "outputs": [],
   "source": [
    "# copy 1. =, 2. copy method \n",
    "l5 = l3\n",
    "l5\n",
    "l3"
   ]
  },
  {
   "cell_type": "code",
   "execution_count": null,
   "metadata": {},
   "outputs": [],
   "source": [
    "l6=l3.copy()\n",
    "l6\n"
   ]
  },
  {
   "cell_type": "code",
   "execution_count": null,
   "metadata": {},
   "outputs": [],
   "source": [
    "l6=l3.copy()\n",
    "l6"
   ]
  },
  {
   "cell_type": "code",
   "execution_count": null,
   "metadata": {},
   "outputs": [],
   "source": [
    "# clear\n",
    "l3.clear()\n",
    "l3"
   ]
  },
  {
   "cell_type": "code",
   "execution_count": null,
   "metadata": {},
   "outputs": [],
   "source": [
    "l4"
   ]
  },
  {
   "cell_type": "code",
   "execution_count": null,
   "metadata": {},
   "outputs": [],
   "source": [
    "l4[1]=2\n",
    "l4\n"
   ]
  },
  {
   "cell_type": "code",
   "execution_count": null,
   "metadata": {},
   "outputs": [],
   "source": [
    "# Tuples\n",
    "\n",
    "  # Tuples is collection of heterogenous data elements \n",
    "    # Tuples is immutable\n",
    "     #Tuples representation ()\n",
    "      #Tuples  supports slicing --->;\n",
    "    \n",
    "# syntax\n",
    "# variablename=()"
   ]
  },
  {
   "cell_type": "code",
   "execution_count": null,
   "metadata": {},
   "outputs": [],
   "source": [
    "tup=(1,2,'welcome','workshop',45,25,4,6)\n",
    "#type(tup)\n",
    "tup"
   ]
  },
  {
   "cell_type": "code",
   "execution_count": null,
   "metadata": {},
   "outputs": [],
   "source": [
    "tup[5]"
   ]
  },
  {
   "cell_type": "code",
   "execution_count": null,
   "metadata": {},
   "outputs": [],
   "source": [
    "tup[2]\n",
    "tup[5]\n",
    "tup[-2]\n",
    "tup[-5]\n",
    "\n",
    "tup[0:]\n",
    "tup[:]\n",
    "tup[::-1]"
   ]
  },
  {
   "cell_type": "code",
   "execution_count": null,
   "metadata": {},
   "outputs": [],
   "source": [
    "# tuple methods\n",
    "dir(tup)"
   ]
  },
  {
   "cell_type": "code",
   "execution_count": null,
   "metadata": {},
   "outputs": [],
   "source": [
    "# packing & unpacking\n",
    "emp=('Ao0645','abc','developer','Apssdc','ong')\n",
    "(eid,name,disg,comp,place)=emp\n",
    "\n",
    "print(eid)\n",
    "print(comp)"
   ]
  },
  {
   "cell_type": "code",
   "execution_count": null,
   "metadata": {},
   "outputs": [],
   "source": [
    "tup[2]=3\n",
    "tup"
   ]
  },
  {
   "cell_type": "code",
   "execution_count": null,
   "metadata": {},
   "outputs": [],
   "source": [
    "# Dictionary\n",
    "  # Dictionary is a unordered collection of different data items\n",
    "    # in dictionary we have 2 pairs those are key words\n",
    "    # key is fixed\n",
    "    # VALUE BE CHANGED \n",
    "    # dictionary representation--> {}\n",
    "    \n",
    "    \n",
    "# syntax\n",
    "\n",
    "# varname={key:value}"
   ]
  },
  {
   "cell_type": "code",
   "execution_count": null,
   "metadata": {},
   "outputs": [],
   "source": [
    "address={'name':'aneesh','palace':'ongole'}\n",
    "address"
   ]
  },
  {
   "cell_type": "code",
   "execution_count": null,
   "metadata": {},
   "outputs": [],
   "source": [
    "address['pincode']=523001\n",
    "address"
   ]
  },
  {
   "cell_type": "code",
   "execution_count": null,
   "metadata": {},
   "outputs": [],
   "source": [
    "address.keys()"
   ]
  },
  {
   "cell_type": "code",
   "execution_count": null,
   "metadata": {},
   "outputs": [],
   "source": [
    "address.values()"
   ]
  },
  {
   "cell_type": "code",
   "execution_count": null,
   "metadata": {},
   "outputs": [],
   "source": [
    "address.items()"
   ]
  },
  {
   "cell_type": "code",
   "execution_count": null,
   "metadata": {},
   "outputs": [],
   "source": [
    "address.get('name')"
   ]
  },
  {
   "cell_type": "code",
   "execution_count": null,
   "metadata": {},
   "outputs": [],
   "source": [
    "# Regular Expressions\n",
    "\n",
    "# Regular expression is nothing patterns\n",
    "\n",
    "# in regular expressions we can impliment\n",
    "#password,email,phone number validations\n"
   ]
  },
  {
   "cell_type": "code",
   "execution_count": 2,
   "metadata": {},
   "outputs": [],
   "source": [
    "import re\n",
    "\n",
    "re.search('^k','knowldge&nonviolance')\n",
    "\n",
    "re.search('e$','knowldge&nonviolance')\n",
    "\n",
    "re.search('\\s','knowldge&nonviolance')\n",
    "re.findall('\\S','knowledge & nonviolance')\n",
    "\n",
    "re.findall('\\d','12ma1a0558')\n",
    "\n",
    "re.findall('\\D','12ma1a0558')\n",
    "\n",
    "re.findall('\\W','rama.p@apssdc.in')\n",
    "\n",
    "re.findall('\\w','123rama_p@apssdc.in')\n",
    "\n",
    "#Mobileno\n",
    "\n",
    "re.search('^[6-9][0-9]{9}$ ^[0][6-9][0-9]{9}$ | [+][9][1][6-9][0-9]{9}$','8949066789')"
   ]
  },
  {
   "cell_type": "code",
   "execution_count": 4,
   "metadata": {
    "collapsed": true
   },
   "outputs": [
    {
     "ename": "SyntaxError",
     "evalue": "leading zeros in decimal integer literals are not permitted; use an 0o prefix for octal integers (<ipython-input-4-10dc35f4a062>, line 3)",
     "output_type": "error",
     "traceback": [
      "\u001b[1;36m  File \u001b[1;32m\"<ipython-input-4-10dc35f4a062>\"\u001b[1;36m, line \u001b[1;32m3\u001b[0m\n\u001b[1;33m    08949066789\u001b[0m\n\u001b[1;37m              ^\u001b[0m\n\u001b[1;31mSyntaxError\u001b[0m\u001b[1;31m:\u001b[0m leading zeros in decimal integer literals are not permitted; use an 0o prefix for octal integers\n"
     ]
    }
   ],
   "source": [
    "8949066789\n",
    "\n",
    "08949066789\n",
    "\n",
    "+918949066789\n",
    "\n",
    "6,7,8,9"
   ]
  },
  {
   "cell_type": "code",
   "execution_count": null,
   "metadata": {},
   "outputs": [],
   "source": []
  },
  {
   "cell_type": "code",
   "execution_count": null,
   "metadata": {},
   "outputs": [],
   "source": []
  },
  {
   "cell_type": "code",
   "execution_count": null,
   "metadata": {},
   "outputs": [],
   "source": []
  }
 ],
 "metadata": {
  "kernelspec": {
   "display_name": "Python 3",
   "language": "python",
   "name": "python3"
  },
  "language_info": {
   "codemirror_mode": {
    "name": "ipython",
    "version": 3
   },
   "file_extension": ".py",
   "mimetype": "text/x-python",
   "name": "python",
   "nbconvert_exporter": "python",
   "pygments_lexer": "ipython3",
   "version": "3.8.3"
  }
 },
 "nbformat": 4,
 "nbformat_minor": 4
}
