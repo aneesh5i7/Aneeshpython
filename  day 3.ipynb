{
 "cells": [
  {
   "cell_type": "markdown",
   "metadata": {},
   "source": [
    "h Hello123--->alphabet\n",
    "\n",
    "1hello--->digit\n",
    "\n",
    "@,%,&,*hello24--->special symbol\n",
    "\n",
    "a-z or A-Z\n",
    "data<='a' and data>='z' or data>='A' and data<='Z'\n",
    "\n",
    "0 9"
   ]
  },
  {
   "cell_type": "code",
   "execution_count": 2,
   "metadata": {},
   "outputs": [
    {
     "name": "stdout",
     "output_type": "stream",
     "text": [
      "Enter the any kind of data  :- agdcg\n",
      "agdcg  alphabet\n"
     ]
    }
   ],
   "source": [
    "data=input('Enter the any kind of data  :- ')\n",
    "if data>='a' and data<='z' or data>='A' and data<='z':\n",
    "    print(data,' alphabet')\n",
    "elif data>='0' and data<='9':\n",
    "    print(data,'is digit')\n",
    "else:\n",
    "    print(data,'special character')"
   ]
  },
  {
   "cell_type": "code",
   "execution_count": 3,
   "metadata": {},
   "outputs": [
    {
     "name": "stdout",
     "output_type": "stream",
     "text": [
      "enter u name:-aneesh\n",
      "enter pwd :-········\n",
      "welcome aneesh\n"
     ]
    }
   ],
   "source": [
    "from getpass import getpass\n",
    "\n",
    "uname=input('enter u name:-')\n",
    "pwd=getpass('enter pwd :-')\n",
    "\n",
    "if uname==\"aneesh\"and pwd==\"aneesh***\":\n",
    "    print('welcome',uname)\n",
    "else:\n",
    "    print('Invalid uname or password')"
   ]
  },
  {
   "cell_type": "code",
   "execution_count": 5,
   "metadata": {},
   "outputs": [
    {
     "name": "stdout",
     "output_type": "stream",
     "text": [
      "Enter Value6\n",
      "6\n",
      "720\n"
     ]
    }
   ],
   "source": [
    "# find factorial number using forloop and while loop\n",
    "\n",
    "num= int(input('Enter Value'))\n",
    "i=1\n",
    "for fact in range(1,num+1):\n",
    "    i=i*fact\n",
    "print(fact)\n",
    "print(i)"
   ]
  },
  {
   "cell_type": "code",
   "execution_count": 10,
   "metadata": {},
   "outputs": [
    {
     "name": "stdout",
     "output_type": "stream",
     "text": [
      "enter value10\n",
      "1\n",
      "2\n",
      "5\n",
      "10\n"
     ]
    }
   ],
   "source": [
    "# find factors using forloop and while loop\n",
    "\n",
    "n= int(input('enter value'))\n",
    "for f in range(1,n+1):\n",
    "    if n%f==0:\n",
    "        print(f)\n"
   ]
  },
  {
   "cell_type": "code",
   "execution_count": null,
   "metadata": {},
   "outputs": [],
   "source": [
    "# find prime numbers using forloop and whileloop\n"
   ]
  },
  {
   "cell_type": "code",
   "execution_count": null,
   "metadata": {},
   "outputs": [],
   "source": []
  },
  {
   "cell_type": "code",
   "execution_count": null,
   "metadata": {},
   "outputs": [],
   "source": []
  },
  {
   "cell_type": "code",
   "execution_count": null,
   "metadata": {},
   "outputs": [],
   "source": []
  },
  {
   "cell_type": "code",
   "execution_count": null,
   "metadata": {},
   "outputs": [],
   "source": []
  },
  {
   "cell_type": "code",
   "execution_count": null,
   "metadata": {},
   "outputs": [],
   "source": []
  }
 ],
 "metadata": {
  "kernelspec": {
   "display_name": "Python 3",
   "language": "python",
   "name": "python3"
  },
  "language_info": {
   "codemirror_mode": {
    "name": "ipython",
    "version": 3
   },
   "file_extension": ".py",
   "mimetype": "text/x-python",
   "name": "python",
   "nbconvert_exporter": "python",
   "pygments_lexer": "ipython3",
   "version": "3.8.3"
  }
 },
 "nbformat": 4,
 "nbformat_minor": 4
}
