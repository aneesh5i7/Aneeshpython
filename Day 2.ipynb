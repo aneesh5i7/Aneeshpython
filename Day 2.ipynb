{
 "cells": [
  {
   "cell_type": "markdown",
   "metadata": {},
   "source": [
    "# To Day Agenda\n",
    "\n",
    "*Execution of command in python shell\n",
    "*Data types\n",
    "   *int\n",
    "   *Float\n",
    "   *bool\n",
    "   *complex\n",
    "   *str\n",
    "* I/p And o/p\n",
    "\n",
    "*program Execution in idle\n",
    "\n",
    "-program Execution in commandprompt\n",
    "\n",
    "+ Git Hub Account Creation\n"
   ]
  },
  {
   "cell_type": "code",
   "execution_count": null,
   "metadata": {},
   "outputs": [],
   "source": [
    "a=10\n",
    "b=20\n",
    "print(a+b)\n",
    "print(a-b)\n",
    "print(a*b)\n",
    "print(a/b)# floating\n",
    "print(a//b)# integer\n",
    "print(a**b)\n",
    "print(pow(2,4))\n"
   ]
  },
  {
   "cell_type": "code",
   "execution_count": null,
   "metadata": {},
   "outputs": [],
   "source": [
    "\n"
   ]
  },
  {
   "cell_type": "code",
   "execution_count": null,
   "metadata": {},
   "outputs": [],
   "source": [
    "# Rational or Comparision Operator\n",
    "print(50>100)\n",
    "print(100<40)\n",
    "print(30>=29)\n",
    "print(40<=50)\n",
    "print(2==2)\n",
    "print(2==1)\n",
    "print(10!=5)\n",
    "print(15!=15)"
   ]
  },
  {
   "cell_type": "code",
   "execution_count": null,
   "metadata": {},
   "outputs": [],
   "source": [
    "# logical Operators  AND\n",
    "\n",
    "print(False and False)\n",
    "print(False and True)\n",
    "print(True and False)\n",
    "print(True and True)"
   ]
  },
  {
   "cell_type": "code",
   "execution_count": null,
   "metadata": {},
   "outputs": [],
   "source": [
    "# Lodical Operator   OR\n",
    "print(False or False)\n",
    "print(False or True)\n",
    "print(True or False)\n",
    "print(True or True)"
   ]
  },
  {
   "cell_type": "code",
   "execution_count": null,
   "metadata": {},
   "outputs": [],
   "source": [
    "# Lodical Operator   NOT\n",
    "print(False not False)\n",
    "print(False not True)\n",
    "print(True not False)\n",
    "print(True not True)"
   ]
  },
  {
   "cell_type": "code",
   "execution_count": null,
   "metadata": {},
   "outputs": [],
   "source": [
    "# Not with AND\n",
    "\n",
    "print(not(False and False))\n",
    "print(not(False and True))\n",
    "print(not(True and False))\n",
    "print(not(True and True))"
   ]
  },
  {
   "cell_type": "code",
   "execution_count": null,
   "metadata": {},
   "outputs": [],
   "source": [
    "# Not with OR\n",
    "\n",
    "print(not(False or False))\n",
    "print(not(False or True))\n",
    "print(not(True or False))\n",
    "print(not(True or True))"
   ]
  },
  {
   "cell_type": "code",
   "execution_count": null,
   "metadata": {},
   "outputs": [],
   "source": [
    "print(10>9 and 5<4)\n",
    "print(10==10 and 9!=9)\n",
    "print(9!=5 or 5==5)\n",
    "print(not(100>99 and 50<20))"
   ]
  },
  {
   "cell_type": "code",
   "execution_count": null,
   "metadata": {},
   "outputs": [],
   "source": [
    "# Assignment Operator\n",
    "\n",
    "a=5\n",
    "a+=5\n",
    "a-=6\n",
    "a*=4\n",
    "a/=8\n",
    "a"
   ]
  },
  {
   "cell_type": "code",
   "execution_count": null,
   "metadata": {},
   "outputs": [],
   "source": [
    "# Bit wise Operators &,/,^\n",
    "2&2\n",
    "\n",
    "10&5\n",
    "\n",
    "11 | 6\n",
    "\n",
    "20^10\n",
    "\n",
    "ord('A')\n",
    "\n",
    "ord('a')\n",
    "\n",
    "chr(97)\n"
   ]
  },
  {
   "cell_type": "code",
   "execution_count": null,
   "metadata": {},
   "outputs": [],
   "source": [
    "# Membership Operators in, not in\n",
    "s=\"welcome to python workshop\"\n",
    "\n",
    "'to' in s\n",
    "\n",
    "'too' in s\n",
    "\n",
    "'workz' not in s\n",
    "\n",
    "\n"
   ]
  },
  {
   "cell_type": "code",
   "execution_count": null,
   "metadata": {},
   "outputs": [],
   "source": [
    "# Identity Operators is, is not, ==, /=\n",
    "\n",
    "n='hello'\n",
    "m='hello'\n",
    "\n",
    "n is not m"
   ]
  },
  {
   "cell_type": "code",
   "execution_count": null,
   "metadata": {},
   "outputs": [],
   "source": [
    "# Conditional statements in python \n",
    "\n",
    "# if elif else\n",
    "\n",
    "# Syntax\n",
    "if (condition):\n",
    "    statements\n",
    "elif (condition):\n",
    "    statements\n",
    "else:\n",
    "    statements\n"
   ]
  },
  {
   "cell_type": "code",
   "execution_count": null,
   "metadata": {},
   "outputs": [],
   "source": [
    "n=int(input('enter the number:-'))\n",
    "if n%2==0:\n",
    "    print(n,'Even Number')\n",
    "else:\n",
    "    print(n,'Odd Number')\n",
    "    "
   ]
  },
  {
   "cell_type": "code",
   "execution_count": null,
   "metadata": {},
   "outputs": [],
   "source": [
    "n=int(input('enter the number'))\n",
    "if n%2!=0:\n",
    "    print(n,'Odd Number')\n",
    "else:\n",
    "    print(n,'Even Number')"
   ]
  },
  {
   "cell_type": "code",
   "execution_count": null,
   "metadata": {},
   "outputs": [],
   "source": [
    "# Write a program to print Days\n",
    " \n",
    "n=int(input('0=sunday,1=monday,2=tuesday,3=wednesday,4=thursday,5=friday,6=saturday'))\n",
    "print(0==6)"
   ]
  },
  {
   "cell_type": "code",
   "execution_count": null,
   "metadata": {},
   "outputs": [],
   "source": [
    "# Iterations\n",
    "# for,while\n",
    "# syntax\n",
    "\n",
    "# for variable in range(inclusive,exclusive,step):\n",
    "    print(variablename)"
   ]
  },
  {
   "cell_type": "code",
   "execution_count": null,
   "metadata": {},
   "outputs": [],
   "source": [
    "#for temp in range(10+1): #10+1 or 11\n",
    "#   print(temp)\n",
    "\n",
    "'''for i in range(1,100+1):\n",
    "    print(i,end=\" \")\n",
    "for rev in range(100,0,-1):\n",
    "    print(rev,end=\">> \")''\n",
    "\n",
    "for even in range(0,50+1,2):\n",
    "    print(even,end=\">>\")'''\n",
    "for odd in range(0,50+1,2):\n",
    "    print(odd,end=\"  \")\n",
    "for dif in range(0,100,10):\n",
    "    print(dif,end=\" \")\n",
    "\n",
    "\n",
    "\n"
   ]
  },
  {
   "cell_type": "code",
   "execution_count": 1,
   "metadata": {},
   "outputs": [
    {
     "name": "stdout",
     "output_type": "stream",
     "text": [
      "Enter Table:-8\n",
      "8 * 1 = 8\n",
      "8 * 2 = 16\n",
      "8 * 3 = 24\n",
      "8 * 4 = 32\n",
      "8 * 5 = 40\n",
      "8 * 6 = 48\n",
      "8 * 7 = 56\n",
      "8 * 8 = 64\n",
      "8 * 9 = 72\n",
      "8 * 10 = 80\n"
     ]
    }
   ],
   "source": [
    "num=int(input('Enter Table:-'))\n",
    "for i in range(1,10+1):\n",
    "    print(num,'*',i,'=',num*i)"
   ]
  },
  {
   "cell_type": "code",
   "execution_count": 2,
   "metadata": {},
   "outputs": [
    {
     "name": "stdout",
     "output_type": "stream",
     "text": [
      "Enter no of tables10\n",
      "Enter table multiples13\n",
      "1 * 1 = 1\t1 * 2 = 2\t1 * 3 = 3\t1 * 4 = 4\t1 * 5 = 5\t1 * 6 = 6\t1 * 7 = 7\t1 * 8 = 8\t1 * 9 = 9\t1 * 10 = 10\t1 * 11 = 11\t1 * 12 = 12\t1 * 13 = 13\t\n",
      "\n",
      "2 * 1 = 2\t2 * 2 = 4\t2 * 3 = 6\t2 * 4 = 8\t2 * 5 = 10\t2 * 6 = 12\t2 * 7 = 14\t2 * 8 = 16\t2 * 9 = 18\t2 * 10 = 20\t2 * 11 = 22\t2 * 12 = 24\t2 * 13 = 26\t\n",
      "\n",
      "3 * 1 = 3\t3 * 2 = 6\t3 * 3 = 9\t3 * 4 = 12\t3 * 5 = 15\t3 * 6 = 18\t3 * 7 = 21\t3 * 8 = 24\t3 * 9 = 27\t3 * 10 = 30\t3 * 11 = 33\t3 * 12 = 36\t3 * 13 = 39\t\n",
      "\n",
      "4 * 1 = 4\t4 * 2 = 8\t4 * 3 = 12\t4 * 4 = 16\t4 * 5 = 20\t4 * 6 = 24\t4 * 7 = 28\t4 * 8 = 32\t4 * 9 = 36\t4 * 10 = 40\t4 * 11 = 44\t4 * 12 = 48\t4 * 13 = 52\t\n",
      "\n",
      "5 * 1 = 5\t5 * 2 = 10\t5 * 3 = 15\t5 * 4 = 20\t5 * 5 = 25\t5 * 6 = 30\t5 * 7 = 35\t5 * 8 = 40\t5 * 9 = 45\t5 * 10 = 50\t5 * 11 = 55\t5 * 12 = 60\t5 * 13 = 65\t\n",
      "\n",
      "6 * 1 = 6\t6 * 2 = 12\t6 * 3 = 18\t6 * 4 = 24\t6 * 5 = 30\t6 * 6 = 36\t6 * 7 = 42\t6 * 8 = 48\t6 * 9 = 54\t6 * 10 = 60\t6 * 11 = 66\t6 * 12 = 72\t6 * 13 = 78\t\n",
      "\n",
      "7 * 1 = 7\t7 * 2 = 14\t7 * 3 = 21\t7 * 4 = 28\t7 * 5 = 35\t7 * 6 = 42\t7 * 7 = 49\t7 * 8 = 56\t7 * 9 = 63\t7 * 10 = 70\t7 * 11 = 77\t7 * 12 = 84\t7 * 13 = 91\t\n",
      "\n",
      "8 * 1 = 8\t8 * 2 = 16\t8 * 3 = 24\t8 * 4 = 32\t8 * 5 = 40\t8 * 6 = 48\t8 * 7 = 56\t8 * 8 = 64\t8 * 9 = 72\t8 * 10 = 80\t8 * 11 = 88\t8 * 12 = 96\t8 * 13 = 104\t\n",
      "\n",
      "9 * 1 = 9\t9 * 2 = 18\t9 * 3 = 27\t9 * 4 = 36\t9 * 5 = 45\t9 * 6 = 54\t9 * 7 = 63\t9 * 8 = 72\t9 * 9 = 81\t9 * 10 = 90\t9 * 11 = 99\t9 * 12 = 108\t9 * 13 = 117\t\n",
      "\n",
      "10 * 1 = 10\t10 * 2 = 20\t10 * 3 = 30\t10 * 4 = 40\t10 * 5 = 50\t10 * 6 = 60\t10 * 7 = 70\t10 * 8 = 80\t10 * 9 = 90\t10 * 10 = 100\t10 * 11 = 110\t10 * 12 = 120\t10 * 13 = 130\t\n",
      "\n"
     ]
    }
   ],
   "source": [
    "t=int(input('Enter no of tables'))\n",
    "m=int(input('Enter table multiples'))\n",
    "for i in range(1,t+1):\n",
    "    for j in range(1,m+1):\n",
    "        print(i,'*',j,'=',i*j,end=\"\\t\")\n",
    "    print('\\n')"
   ]
  },
  {
   "cell_type": "code",
   "execution_count": 3,
   "metadata": {
    "scrolled": true
   },
   "outputs": [
    {
     "name": "stdout",
     "output_type": "stream",
     "text": [
      "Enter no of tables13\n",
      "Enter table multiples10\n",
      "1 * 1 = 1\t1 * 2 = 2\t1 * 3 = 3\t1 * 4 = 4\t1 * 5 = 5\t1 * 6 = 6\t1 * 7 = 7\t1 * 8 = 8\t1 * 9 = 9\t1 * 10 = 10\t1 * 11 = 11\t1 * 12 = 12\t1 * 13 = 13\t\n",
      "\n",
      "2 * 1 = 2\t2 * 2 = 4\t2 * 3 = 6\t2 * 4 = 8\t2 * 5 = 10\t2 * 6 = 12\t2 * 7 = 14\t2 * 8 = 16\t2 * 9 = 18\t2 * 10 = 20\t2 * 11 = 22\t2 * 12 = 24\t2 * 13 = 26\t\n",
      "\n",
      "3 * 1 = 3\t3 * 2 = 6\t3 * 3 = 9\t3 * 4 = 12\t3 * 5 = 15\t3 * 6 = 18\t3 * 7 = 21\t3 * 8 = 24\t3 * 9 = 27\t3 * 10 = 30\t3 * 11 = 33\t3 * 12 = 36\t3 * 13 = 39\t\n",
      "\n",
      "4 * 1 = 4\t4 * 2 = 8\t4 * 3 = 12\t4 * 4 = 16\t4 * 5 = 20\t4 * 6 = 24\t4 * 7 = 28\t4 * 8 = 32\t4 * 9 = 36\t4 * 10 = 40\t4 * 11 = 44\t4 * 12 = 48\t4 * 13 = 52\t\n",
      "\n",
      "5 * 1 = 5\t5 * 2 = 10\t5 * 3 = 15\t5 * 4 = 20\t5 * 5 = 25\t5 * 6 = 30\t5 * 7 = 35\t5 * 8 = 40\t5 * 9 = 45\t5 * 10 = 50\t5 * 11 = 55\t5 * 12 = 60\t5 * 13 = 65\t\n",
      "\n",
      "6 * 1 = 6\t6 * 2 = 12\t6 * 3 = 18\t6 * 4 = 24\t6 * 5 = 30\t6 * 6 = 36\t6 * 7 = 42\t6 * 8 = 48\t6 * 9 = 54\t6 * 10 = 60\t6 * 11 = 66\t6 * 12 = 72\t6 * 13 = 78\t\n",
      "\n",
      "7 * 1 = 7\t7 * 2 = 14\t7 * 3 = 21\t7 * 4 = 28\t7 * 5 = 35\t7 * 6 = 42\t7 * 7 = 49\t7 * 8 = 56\t7 * 9 = 63\t7 * 10 = 70\t7 * 11 = 77\t7 * 12 = 84\t7 * 13 = 91\t\n",
      "\n",
      "8 * 1 = 8\t8 * 2 = 16\t8 * 3 = 24\t8 * 4 = 32\t8 * 5 = 40\t8 * 6 = 48\t8 * 7 = 56\t8 * 8 = 64\t8 * 9 = 72\t8 * 10 = 80\t8 * 11 = 88\t8 * 12 = 96\t8 * 13 = 104\t\n",
      "\n",
      "9 * 1 = 9\t9 * 2 = 18\t9 * 3 = 27\t9 * 4 = 36\t9 * 5 = 45\t9 * 6 = 54\t9 * 7 = 63\t9 * 8 = 72\t9 * 9 = 81\t9 * 10 = 90\t9 * 11 = 99\t9 * 12 = 108\t9 * 13 = 117\t\n",
      "\n",
      "10 * 1 = 10\t10 * 2 = 20\t10 * 3 = 30\t10 * 4 = 40\t10 * 5 = 50\t10 * 6 = 60\t10 * 7 = 70\t10 * 8 = 80\t10 * 9 = 90\t10 * 10 = 100\t10 * 11 = 110\t10 * 12 = 120\t10 * 13 = 130\t\n",
      "\n"
     ]
    }
   ],
   "source": [
    "t=int(input('Enter no of tables'))\n",
    "m=int(input('Enter table multiples'))\n",
    "for i in range(1,m+1):\n",
    "    for j in range(1,t+1):\n",
    "        print(i,'*',j,'=',i*j,end=\"\\t\")\n",
    "    print('\\n')"
   ]
  },
  {
   "cell_type": "code",
   "execution_count": 4,
   "metadata": {},
   "outputs": [
    {
     "name": "stdout",
     "output_type": "stream",
     "text": [
      "Enter no of tables4\n",
      "Enter table multiples5\n",
      "\n",
      "\n",
      "\n",
      "\n",
      "\n",
      "\n",
      "\n",
      "\n"
     ]
    }
   ],
   "source": [
    "t=int(input('Enter no of tables'))\n",
    "m=int(input('Enter table multiples'))\n",
    "for i in range(1,t+1):\n",
    "    for j in range(1,m+1):\n",
    "        #print(i,'*',j,'=',i*j)\n",
    "        print\n",
    "    print('\\n')"
   ]
  },
  {
   "cell_type": "markdown",
   "metadata": {},
   "source": [
    "# Find factorial no.using for loop and while loop\n",
    "# Find Factorial using for loop & while loop\n",
    "# while loop we can execute a set of\n",
    "# statements condition is true\n",
    "\n",
    "# while condition:\n",
    "    # statements"
   ]
  },
  {
   "cell_type": "code",
   "execution_count": null,
   "metadata": {},
   "outputs": [],
   "source": []
  },
  {
   "cell_type": "code",
   "execution_count": null,
   "metadata": {},
   "outputs": [],
   "source": [
    "# by using while loop to print value s"
   ]
  },
  {
   "cell_type": "code",
   "execution_count": null,
   "metadata": {},
   "outputs": [],
   "source": [
    "i=1\n",
    "while i<=10:\n",
    "    print(i)"
   ]
  },
  {
   "cell_type": "code",
   "execution_count": null,
   "metadata": {},
   "outputs": [],
   "source": [
    "\n",
    "i=1\n",
    "while i<=20:\n",
    "    print(i)\n",
    "    i+=1\n",
    "    "
   ]
  },
  {
   "cell_type": "code",
   "execution_count": null,
   "metadata": {},
   "outputs": [],
   "source": [
    "# reverse the numbers using while loop \n",
    "i=20\n",
    "while i>=1:\n",
    "    print(i)\n",
    "    i-=1"
   ]
  },
  {
   "cell_type": "code",
   "execution_count": null,
   "metadata": {},
   "outputs": [],
   "source": [
    "# while condition using even numbers\n",
    "\n",
    "n=int(input('enter number is:-'))\n",
    "i=1\n",
    "while n>=i:\n",
    "    if n%2==0:\n",
    "        print('even')\n",
    "    else:\n",
    "        print('odd')\n",
    "    i+=1\n",
    "\n",
    "    "
   ]
  },
  {
   "cell_type": "code",
   "execution_count": null,
   "metadata": {},
   "outputs": [],
   "source": [
    "# using for loop even numbers\n",
    "\n",
    "n=int(input('enter values'))\n",
    "for i in range(0,n+1):\n",
    "    if i%2==0:\n",
    "        print(i,'is even',end=\",\")\n",
    "\n"
   ]
  },
  {
   "cell_type": "code",
   "execution_count": null,
   "metadata": {},
   "outputs": [],
   "source": [
    "# while condition using even numbers\n",
    "n1=int(input('Enter the value'))\n",
    "i=1\n",
    "while i<=n1:\n",
    "    if i%2==0:\n",
    "        print(i,'is even',end=\"-->\")\n",
    "    i+=1"
   ]
  },
  {
   "cell_type": "code",
   "execution_count": null,
   "metadata": {},
   "outputs": [],
   "source": [
    "# while condition using odd numbers\n"
   ]
  },
  {
   "cell_type": "code",
   "execution_count": null,
   "metadata": {},
   "outputs": [],
   "source": [
    "# Jumping statements\n",
    "\n",
    "#break,continue pass\n",
    "\n",
    "s='hello'\n",
    "for i in s:\n",
    "    if i==\"l\":\n",
    "        continue\n",
    "    print(i)"
   ]
  },
  {
   "cell_type": "code",
   "execution_count": null,
   "metadata": {},
   "outputs": [],
   "source": [
    "# Read any number in user \n",
    "  \n",
    " # read any   string even"
   ]
  },
  {
   "cell_type": "code",
   "execution_count": null,
   "metadata": {},
   "outputs": [],
   "source": [
    "def name:\n",
    "    pass"
   ]
  },
  {
   "cell_type": "code",
   "execution_count": null,
   "metadata": {},
   "outputs": [],
   "source": [
    "# Functions  are 3 types\n",
    "\n",
    "# predefined\n",
    " # abs,any,all,sorted,ord,type,sum,bin,oct,next,len\n",
    "    \n",
    "# User defined\n",
    "\n",
    "# Special functions "
   ]
  },
  {
   "cell_type": "code",
   "execution_count": null,
   "metadata": {},
   "outputs": [],
   "source": [
    "# length,type,ord,bin,sum,max,min,round,any,sorted\n",
    "\n",
    "a=\"pythonworkshop\"\n",
    "b=[1,2,3,4,5]\n",
    "c=''\n",
    "len(a)\n",
    "type(a)\n",
    "ord('z')\n",
    "bin(5)\n",
    "sum(b)\n",
    "max(a)\n",
    "min(a)\n",
    "round(10.6)\n",
    "any(c)\n",
    "sorted(a)\n",
    "all(c)\n",
    "abs(-1)\n",
    "pow(10,2)\n"
   ]
  },
  {
   "cell_type": "code",
   "execution_count": null,
   "metadata": {},
   "outputs": [],
   "source": []
  },
  {
   "cell_type": "raw",
   "metadata": {},
   "source": []
  },
  {
   "cell_type": "code",
   "execution_count": null,
   "metadata": {},
   "outputs": [],
   "source": [
    "attempts=0\n",
    "while attempts<3:\n",
    "    username=input('username?')\n",
    "    password=input('password?')\n",
    "    if username=='correctusername'and password=='correctpassword':\n",
    "        print('you are in!')\n",
    "    else:\n",
    "        attempts+=1\n",
    "        print('incorrect!')\n",
    "        if attempts==3:\n",
    "            print('too many attempts')"
   ]
  },
  {
   "cell_type": "code",
   "execution_count": null,
   "metadata": {},
   "outputs": [],
   "source": []
  },
  {
   "cell_type": "code",
   "execution_count": null,
   "metadata": {},
   "outputs": [],
   "source": []
  },
  {
   "cell_type": "code",
   "execution_count": null,
   "metadata": {},
   "outputs": [],
   "source": []
  },
  {
   "cell_type": "code",
   "execution_count": null,
   "metadata": {},
   "outputs": [],
   "source": []
  },
  {
   "cell_type": "code",
   "execution_count": null,
   "metadata": {},
   "outputs": [],
   "source": []
  }
 ],
 "metadata": {
  "kernelspec": {
   "display_name": "Python 3",
   "language": "python",
   "name": "python3"
  },
  "language_info": {
   "codemirror_mode": {
    "name": "ipython",
    "version": 3
   },
   "file_extension": ".py",
   "mimetype": "text/x-python",
   "name": "python",
   "nbconvert_exporter": "python",
   "pygments_lexer": "ipython3",
   "version": "3.8.3"
  }
 },
 "nbformat": 4,
 "nbformat_minor": 4
}
