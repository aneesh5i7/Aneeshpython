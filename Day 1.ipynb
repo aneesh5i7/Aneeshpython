{
 "cells": [
  {
   "cell_type": "code",
   "execution_count": 1,
   "metadata": {},
   "outputs": [
    {
     "name": "stdout",
     "output_type": "stream",
     "text": [
      "Aneesh\n"
     ]
    }
   ],
   "source": [
    "print(\"Aneesh\")\n"
   ]
  },
  {
   "cell_type": "markdown",
   "metadata": {},
   "source": [
    "# Heading\n",
    "\n",
    "## Heading1\n",
    "\n",
    "### Heading2\n",
    "\n",
    "#### Heading3\n",
    "\n",
    "# Bold\n",
    "\n",
    "**welcome**\n",
    "\n",
    "# Italic\n",
    "\n",
    "*pythonworkshop*"
   ]
  },
  {
   "cell_type": "markdown",
   "metadata": {},
   "source": [
    "# Both Bold & Italic\n",
    "\n",
    "**welcome**\n",
    "\n",
    "# Handling images\n",
    "\n",
    "## offline image\n",
    "\n",
    "## online image\n",
    "\n",
    "<img src=sample.jpg\">\n",
    "                   "
   ]
  },
  {
   "cell_type": "markdown",
   "metadata": {},
   "source": [
    "<img src=\"\">"
   ]
  }
 ],
 "metadata": {
  "kernelspec": {
   "display_name": "Python 3",
   "language": "python",
   "name": "python3"
  },
  "language_info": {
   "codemirror_mode": {
    "name": "ipython",
    "version": 3
   },
   "file_extension": ".py",
   "mimetype": "text/x-python",
   "name": "python",
   "nbconvert_exporter": "python",
   "pygments_lexer": "ipython3",
   "version": "3.8.3"
  }
 },
 "nbformat": 4,
 "nbformat_minor": 4
}
